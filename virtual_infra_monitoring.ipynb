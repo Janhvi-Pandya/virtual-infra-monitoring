{
  "nbformat": 4,
  "nbformat_minor": 0,
  "metadata": {
    "colab": {
      "provenance": [],
      "toc_visible": true,
      "authorship_tag": "ABX9TyMupRweEFtpIpn6kkapO8wM",
      "include_colab_link": true
    },
    "kernelspec": {
      "name": "python3",
      "display_name": "Python 3"
    },
    "language_info": {
      "name": "python"
    }
  },
  "cells": [
    {
      "cell_type": "markdown",
      "metadata": {
        "id": "view-in-github",
        "colab_type": "text"
      },
      "source": [
        "<a href=\"https://colab.research.google.com/github/Janhvi-Pandya/virtual-infra-monitoring/blob/main/virtual_infra_monitoring.ipynb\" target=\"_parent\"><img src=\"https://colab.research.google.com/assets/colab-badge.svg\" alt=\"Open In Colab\"/></a>"
      ]
    },
    {
      "cell_type": "code",
      "execution_count": 1,
      "metadata": {
        "colab": {
          "base_uri": "https://localhost:8080/"
        },
        "id": "Rpa-b7bCAnUO",
        "outputId": "ed640e51-b010-4449-d49f-dbd680ddcb72"
      },
      "outputs": [
        {
          "output_type": "stream",
          "name": "stdout",
          "text": [
            "Starting Virtual Machine...\n",
            "VM is running.\n",
            "=== Virtual Machine Status ===\n",
            "%Cpu(s): 58.1 us, 38.7 sy,  0.0 ni,  0.0 id,  0.0 wa,  0.0 hi,  3.2 si,  0.0 st\n",
            "\n",
            "               total        used        free      shared  buff/cache   available\n",
            "Mem:           12978         698        8111           1        4169       11971\n",
            "Swap:              0           0           0\n",
            "\n",
            "\n",
            "✅ Virtual Machine status saved to vm_status.txt\n"
          ]
        }
      ],
      "source": [
        "import os\n",
        "import time\n",
        "\n",
        "# Simulating Virtual Machine Start\n",
        "print(\"Starting Virtual Machine...\")\n",
        "time.sleep(2)  # Simulated Boot Time\n",
        "print(\"VM is running.\")\n",
        "\n",
        "# Simulating System Performance Monitoring\n",
        "cpu_usage = os.popen(\"top -bn1 | grep 'Cpu(s)'\").read()\n",
        "memory_usage = os.popen(\"free -m\").read()\n",
        "\n",
        "# Display system stats in Google Colab output\n",
        "print(\"=== Virtual Machine Status ===\")\n",
        "print(cpu_usage)\n",
        "print(memory_usage)\n",
        "\n",
        "# Saving Logs as a Report\n",
        "with open(\"vm_status.txt\", \"w\") as f:\n",
        "    f.write(\"=== Virtual Machine Status ===\\n\")\n",
        "    f.write(cpu_usage + \"\\n\")\n",
        "    f.write(memory_usage + \"\\n\")\n",
        "\n",
        "print(\"\\n✅ Virtual Machine status saved to vm_status.txt\")\n"
      ]
    },
    {
      "cell_type": "code",
      "source": [
        "!cat vm_status.txt\n"
      ],
      "metadata": {
        "colab": {
          "base_uri": "https://localhost:8080/"
        },
        "id": "DB347TKxAyCq",
        "outputId": "6281d7e5-caf7-4882-b286-7cc646a8e96d"
      },
      "execution_count": 2,
      "outputs": [
        {
          "output_type": "stream",
          "name": "stdout",
          "text": [
            "=== Virtual Machine Status ===\n",
            "%Cpu(s): 58.1 us, 38.7 sy,  0.0 ni,  0.0 id,  0.0 wa,  0.0 hi,  3.2 si,  0.0 st\n",
            "\n",
            "               total        used        free      shared  buff/cache   available\n",
            "Mem:           12978         698        8111           1        4169       11971\n",
            "Swap:              0           0           0\n",
            "\n"
          ]
        }
      ]
    },
    {
      "cell_type": "code",
      "source": [
        "from google.colab import files\n",
        "files.download(\"vm_status.txt\")\n"
      ],
      "metadata": {
        "colab": {
          "base_uri": "https://localhost:8080/",
          "height": 17
        },
        "id": "-dqIcbunAz54",
        "outputId": "33d1c0a1-d3fb-4e21-9ed4-cc14b4c2fcb3"
      },
      "execution_count": 3,
      "outputs": [
        {
          "output_type": "display_data",
          "data": {
            "text/plain": [
              "<IPython.core.display.Javascript object>"
            ],
            "application/javascript": [
              "\n",
              "    async function download(id, filename, size) {\n",
              "      if (!google.colab.kernel.accessAllowed) {\n",
              "        return;\n",
              "      }\n",
              "      const div = document.createElement('div');\n",
              "      const label = document.createElement('label');\n",
              "      label.textContent = `Downloading \"${filename}\": `;\n",
              "      div.appendChild(label);\n",
              "      const progress = document.createElement('progress');\n",
              "      progress.max = size;\n",
              "      div.appendChild(progress);\n",
              "      document.body.appendChild(div);\n",
              "\n",
              "      const buffers = [];\n",
              "      let downloaded = 0;\n",
              "\n",
              "      const channel = await google.colab.kernel.comms.open(id);\n",
              "      // Send a message to notify the kernel that we're ready.\n",
              "      channel.send({})\n",
              "\n",
              "      for await (const message of channel.messages) {\n",
              "        // Send a message to notify the kernel that we're ready.\n",
              "        channel.send({})\n",
              "        if (message.buffers) {\n",
              "          for (const buffer of message.buffers) {\n",
              "            buffers.push(buffer);\n",
              "            downloaded += buffer.byteLength;\n",
              "            progress.value = downloaded;\n",
              "          }\n",
              "        }\n",
              "      }\n",
              "      const blob = new Blob(buffers, {type: 'application/binary'});\n",
              "      const a = document.createElement('a');\n",
              "      a.href = window.URL.createObjectURL(blob);\n",
              "      a.download = filename;\n",
              "      div.appendChild(a);\n",
              "      a.click();\n",
              "      div.remove();\n",
              "    }\n",
              "  "
            ]
          },
          "metadata": {}
        },
        {
          "output_type": "display_data",
          "data": {
            "text/plain": [
              "<IPython.core.display.Javascript object>"
            ],
            "application/javascript": [
              "download(\"download_12681a94-9e24-46a9-bd84-7b5c21c8e06d\", \"vm_status.txt\", 320)"
            ]
          },
          "metadata": {}
        }
      ]
    },
    {
      "cell_type": "code",
      "source": [
        "import os\n",
        "import time\n",
        "import pandas as pd\n",
        "import matplotlib.pyplot as plt\n",
        "\n",
        "# Set monitoring duration (seconds) and interval\n",
        "monitor_duration = 30  # Run for 30 seconds\n",
        "interval = 5  # Collect data every 5 seconds\n",
        "\n",
        "# Create lists to store the logs\n",
        "timestamps = []\n",
        "cpu_usages = []\n",
        "memory_usages = []\n",
        "\n",
        "print(\"🔍 Monitoring Virtual Machine System Health...\")\n",
        "\n",
        "# Monitor system health over time\n",
        "start_time = time.time()\n",
        "while time.time() - start_time < monitor_duration:\n",
        "    # Collect system data\n",
        "    cpu_usage = os.popen(\"top -bn1 | grep 'Cpu(s)'\").read()\n",
        "    memory_usage = os.popen(\"free -m\").read()\n",
        "\n",
        "    # Extract numeric values (basic parsing)\n",
        "    cpu_percent = float(cpu_usage.split()[1])  # Adjust index if needed\n",
        "    memory_total = int(memory_usage.split()[7])  # Total Memory\n",
        "    memory_used = int(memory_usage.split()[8])  # Used Memory\n",
        "\n",
        "    # Store data\n",
        "    timestamps.append(time.strftime(\"%H:%M:%S\"))\n",
        "    cpu_usages.append(cpu_percent)\n",
        "    memory_usages.append(memory_used)\n",
        "\n",
        "    print(f\"📌 {timestamps[-1]} - CPU: {cpu_percent}% | Memory: {memory_used}MB\")\n",
        "\n",
        "    time.sleep(interval)  # Wait before next check\n",
        "\n",
        "# Save logs to a CSV file\n",
        "df = pd.DataFrame({\"Timestamp\": timestamps, \"CPU Usage (%)\": cpu_usages, \"Memory Usage (MB)\": memory_usages})\n",
        "df.to_csv(\"vm_performance_log.csv\", index=False)\n",
        "\n",
        "print(\"\\n✅ System performance log saved as 'vm_performance_log.csv'.\")\n",
        "\n",
        "# Plot graphs\n",
        "plt.figure(figsize=(10, 4))\n",
        "\n",
        "# CPU Usage Plot\n",
        "plt.subplot(1, 2, 1)\n",
        "plt.plot(timestamps, cpu_usages, marker='o', linestyle='-', color='r')\n",
        "plt.xlabel(\"Time\")\n",
        "plt.ylabel(\"CPU Usage (%)\")\n",
        "plt.title(\"CPU Usage Over Time\")\n",
        "plt.xticks(rotation=45)\n",
        "\n",
        "# Memory Usage Plot\n",
        "plt.subplot(1, 2, 2)\n",
        "plt.plot(timestamps, memory_usages, marker='s', linestyle='-', color='b')\n",
        "plt.xlabel(\"Time\")\n",
        "plt.ylabel(\"Memory Usage (MB)\")\n",
        "plt.title(\"Memory Usage Over Time\")\n",
        "plt.xticks(rotation=45)\n",
        "\n",
        "plt.tight_layout()\n",
        "plt.savefig(\"vm_performance_graph.png\")\n",
        "plt.show()\n",
        "\n",
        "print(\"\\n📊 Graph saved as 'vm_performance_graph.png'\")\n"
      ],
      "metadata": {
        "colab": {
          "base_uri": "https://localhost:8080/",
          "height": 596
        },
        "id": "jFqnVHpxBHhu",
        "outputId": "cb9448b1-85c5-4a14-b80d-608a53ab1597"
      },
      "execution_count": 4,
      "outputs": [
        {
          "output_type": "stream",
          "name": "stdout",
          "text": [
            "🔍 Monitoring Virtual Machine System Health...\n",
            "📌 22:38:38 - CPU: 71.0% | Memory: 988MB\n",
            "📌 22:38:43 - CPU: 3.3% | Memory: 993MB\n",
            "📌 22:38:48 - CPU: 0.0% | Memory: 994MB\n",
            "📌 22:38:54 - CPU: 3.2% | Memory: 1017MB\n",
            "📌 22:38:59 - CPU: 3.2% | Memory: 1017MB\n",
            "📌 22:39:04 - CPU: 0.0% | Memory: 1000MB\n",
            "\n",
            "✅ System performance log saved as 'vm_performance_log.csv'.\n"
          ]
        },
        {
          "output_type": "display_data",
          "data": {
            "text/plain": [
              "<Figure size 1000x400 with 2 Axes>"
            ],
            "image/png": "[encoded data removed]"
          },
          "metadata": {}
        },
        {
          "output_type": "stream",
          "name": "stdout",
          "text": [
            "\n",
            "📊 Graph saved as 'vm_performance_graph.png'\n"
          ]
        }
      ]
    },
    {
      "cell_type": "code",
      "source": [],
      "metadata": {
        "id": "KJOVEhWLGdTZ"
      },
      "execution_count": null,
      "outputs": []
    },
    {
      "cell_type": "code",
      "source": [
        "!find / -name \"vm_performance_graph.png\" 2>/dev/null\n"
      ],
      "metadata": {
        "colab": {
          "base_uri": "https://localhost:8080/"
        },
        "id": "j2z0gCw1FESb",
        "outputId": "c41f4b5c-6b2f-4243-83a8-bfd683cf10fd"
      },
      "execution_count": 19,
      "outputs": [
        {
          "output_type": "stream",
          "name": "stdout",
          "text": [
            "/content/vm_performance_graph.png\n"
          ]
        }
      ]
    },
    {
      "cell_type": "code",
      "source": [
        "!ls -lh\n"
      ],
      "metadata": {
        "colab": {
          "base_uri": "https://localhost:8080/"
        },
        "id": "PWR6PXhTE3fx",
        "outputId": "3fe76e73-a1d9-4d69-e0ab-d843aa4732b8"
      },
      "execution_count": 68,
      "outputs": [
        {
          "output_type": "stream",
          "name": "stdout",
          "text": [
            "total 60K\n",
            "-rw-r--r-- 1 root root   27 Jan 21 23:24 README.md\n",
            "drwxr-xr-x 3 root root 4.0K Jan 21 23:18 virtual-infra-monitoring\n",
            "-rw-r--r-- 1 root root  41K Jan 21 23:24 vm_performance_graph.png\n",
            "-rw-r--r-- 1 root root  148 Jan 21 23:24 vm_performance_log.csv\n",
            "-rw-r--r-- 1 root root  320 Jan 21 23:24 vm_status.txt\n"
          ]
        }
      ]
    },
    {
      "cell_type": "code",
      "source": [],
      "metadata": {
        "id": "CAQYnEblNbGv"
      },
      "execution_count": null,
      "outputs": []
    }
  ]
}